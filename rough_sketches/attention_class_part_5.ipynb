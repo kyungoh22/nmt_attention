{
  "cells": [
    {
      "cell_type": "markdown",
      "metadata": {
        "id": "oNmRO1UCiTGL"
      },
      "source": [
        "- functioning NMT model\n",
        "- attention model using classes\n",
        "- bi-directional LSTMs in Encoder\n",
        "- training works – loss goes down after 5 epochs\n",
        "- pre-trained embeddings incorporated\n",
        "- Using @tf.function wrapper, which speeds up training immensely"
      ]
    },
    {
      "cell_type": "code",
      "execution_count": 1,
      "metadata": {
        "id": "kn6y0Y2eiTGO"
      },
      "outputs": [],
      "source": [
        "import pandas as pd\n",
        "import numpy as np\n",
        "import string\n",
        "from string import digits\n",
        "import matplotlib.pyplot as plt\n",
        "import seaborn as sns\n",
        "%matplotlib inline\n",
        "import tensorflow as tf\n",
        "from tensorflow.keras.layers import Bidirectional, Concatenate, LSTM, Embedding, Dense\n",
        "from keras.preprocessing.text import Tokenizer\n",
        "from tensorflow.keras.layers.experimental.preprocessing import TextVectorization\n",
        "from tensorflow.keras.initializers import Constant\n",
        "import matplotlib.ticker as ticker\n",
        "from sklearn.model_selection import train_test_split\n",
        "import re\n",
        "import os\n",
        "import io\n",
        "import time\n",
        "\n",
        "#import plotly.graph_objects as go\n"
      ]
    },
    {
      "cell_type": "code",
      "execution_count": 92,
      "metadata": {
        "colab": {
          "base_uri": "https://localhost:8080/"
        },
        "id": "Oaqyk5z-iTGP",
        "outputId": "bd91b15f-ccd9-4692-cef7-a1be20913a12"
      },
      "outputs": [
        {
          "name": "stdout",
          "output_type": "stream",
          "text": [
            "Drive already mounted at /content/gdrive; to attempt to forcibly remount, call drive.mount(\"/content/gdrive\", force_remount=True).\n"
          ]
        }
      ],
      "source": [
        "from google.colab import drive\n",
        "drive.mount('/content/gdrive')\n",
        "\n",
        "df_en_de = pd.read_table('/content/gdrive/MyDrive/deu-eng/deu.txt', names=['eng', 'deu', 'attr'])"
      ]
    },
    {
      "cell_type": "code",
      "execution_count": 93,
      "metadata": {
        "id": "FczjOYETiTGQ"
      },
      "outputs": [],
      "source": [
        "#df_en_de = pd.read_table('deu-eng/deu.txt', names=['eng', 'deu', 'attr'])\n",
        "df_en_de = df_en_de.drop('attr',axis = 1).rename(columns = {'eng':'english', 'deu':'german'})"
      ]
    },
    {
      "cell_type": "code",
      "execution_count": 94,
      "metadata": {
        "id": "6XuDurryiTGQ"
      },
      "outputs": [],
      "source": [
        "def preprocess_sentence(sentence):\n",
        "    sentence = sentence.lower()\n",
        "    sentence = re.sub(\"'\", '', sentence)\n",
        "    sentence = sentence.replace('ü', 'ue').replace('ä', 'ae').replace('ö', 'oe').replace('ß', 'ss')\n",
        "    exclude = set(string.punctuation)\n",
        "    sentence = ''.join(ch for ch in sentence if ch not in exclude)\n",
        "    sentence = 'start_ ' + sentence + ' _end'\n",
        "    sentence = sentence.encode(\"ascii\", \"ignore\")\n",
        "    sentence = sentence.decode()\n",
        "    return sentence"
      ]
    },
    {
      "cell_type": "code",
      "execution_count": 95,
      "metadata": {
        "id": "G3QynPgBiTGR"
      },
      "outputs": [],
      "source": [
        "pairs = df_en_de\n",
        "pairs = pairs.sample(frac = 0.1)\n",
        "pairs['english'] = pairs['english'].apply(preprocess_sentence)\n",
        "pairs['german'] = pairs['german'].apply(preprocess_sentence)"
      ]
    },
    {
      "cell_type": "code",
      "execution_count": 96,
      "metadata": {
        "id": "1AA7rM5ziTGR"
      },
      "outputs": [],
      "source": [
        "source = pairs['english']\n",
        "target = pairs ['german']"
      ]
    },
    {
      "cell_type": "code",
      "execution_count": 97,
      "metadata": {
        "id": "t5MIVnn2iTGS"
      },
      "outputs": [],
      "source": [
        "# create tokenizer & tensor for source and target\n",
        "source_sentence_tokenizer= Tokenizer(filters='')\n",
        "source_sentence_tokenizer.fit_on_texts(source)\n",
        "source_tensor = source_sentence_tokenizer.texts_to_sequences(source)\n",
        "source_tensor= tf.keras.preprocessing.sequence.pad_sequences(source_tensor, padding='post' )\n",
        "\n",
        "target_sentence_tokenizer= Tokenizer(filters='')\n",
        "target_sentence_tokenizer.fit_on_texts(target)\n",
        "target_tensor = target_sentence_tokenizer.texts_to_sequences(target)\n",
        "target_tensor= tf.keras.preprocessing.sequence.pad_sequences(target_tensor, padding='post' )"
      ]
    },
    {
      "cell_type": "code",
      "execution_count": 98,
      "metadata": {
        "id": "U5yTQ-vttqJA"
      },
      "outputs": [],
      "source": [
        "# Create word to index and index to word mappings for source and target\n",
        "\n",
        "source_word_index = source_sentence_tokenizer.word_index\n",
        "target_word_index = target_sentence_tokenizer.word_index\n",
        "\n",
        "source_index_word = source_sentence_tokenizer.index_word\n",
        "target_index_word = target_sentence_tokenizer.index_word"
      ]
    },
    {
      "cell_type": "code",
      "execution_count": 99,
      "metadata": {
        "colab": {
          "base_uri": "https://localhost:8080/"
        },
        "id": "8jW7M1zstqJA",
        "outputId": "530bcdbf-5de0-4564-f9dc-8febae2e886f"
      },
      "outputs": [
        {
          "name": "stdout",
          "output_type": "stream",
          "text": [
            "Looking in indexes: https://pypi.org/simple, https://us-python.pkg.dev/colab-wheels/public/simple/\n",
            "Collecting en-core-web-lg==3.4.0\n",
            "  Downloading https://github.com/explosion/spacy-models/releases/download/en_core_web_lg-3.4.0/en_core_web_lg-3.4.0-py3-none-any.whl (587.7 MB)\n",
            "\u001b[K     |████████████████████████████████| 587.7 MB 9.0 kB/s \n",
            "\u001b[?25hRequirement already satisfied: spacy<3.5.0,>=3.4.0 in /usr/local/lib/python3.7/dist-packages (from en-core-web-lg==3.4.0) (3.4.1)\n",
            "Requirement already satisfied: preshed<3.1.0,>=3.0.2 in /usr/local/lib/python3.7/dist-packages (from spacy<3.5.0,>=3.4.0->en-core-web-lg==3.4.0) (3.0.6)\n",
            "Requirement already satisfied: thinc<8.2.0,>=8.1.0 in /usr/local/lib/python3.7/dist-packages (from spacy<3.5.0,>=3.4.0->en-core-web-lg==3.4.0) (8.1.0)\n",
            "Requirement already satisfied: spacy-loggers<2.0.0,>=1.0.0 in /usr/local/lib/python3.7/dist-packages (from spacy<3.5.0,>=3.4.0->en-core-web-lg==3.4.0) (1.0.3)\n",
            "Requirement already satisfied: murmurhash<1.1.0,>=0.28.0 in /usr/local/lib/python3.7/dist-packages (from spacy<3.5.0,>=3.4.0->en-core-web-lg==3.4.0) (1.0.7)\n",
            "Requirement already satisfied: catalogue<2.1.0,>=2.0.6 in /usr/local/lib/python3.7/dist-packages (from spacy<3.5.0,>=3.4.0->en-core-web-lg==3.4.0) (2.0.8)\n",
            "Requirement already satisfied: typer<0.5.0,>=0.3.0 in /usr/local/lib/python3.7/dist-packages (from spacy<3.5.0,>=3.4.0->en-core-web-lg==3.4.0) (0.4.2)\n",
            "Requirement already satisfied: cymem<2.1.0,>=2.0.2 in /usr/local/lib/python3.7/dist-packages (from spacy<3.5.0,>=3.4.0->en-core-web-lg==3.4.0) (2.0.6)\n",
            "Requirement already satisfied: jinja2 in /usr/local/lib/python3.7/dist-packages (from spacy<3.5.0,>=3.4.0->en-core-web-lg==3.4.0) (2.11.3)\n",
            "Requirement already satisfied: packaging>=20.0 in /usr/local/lib/python3.7/dist-packages (from spacy<3.5.0,>=3.4.0->en-core-web-lg==3.4.0) (21.3)\n",
            "Requirement already satisfied: tqdm<5.0.0,>=4.38.0 in /usr/local/lib/python3.7/dist-packages (from spacy<3.5.0,>=3.4.0->en-core-web-lg==3.4.0) (4.64.0)\n",
            "Requirement already satisfied: pydantic!=1.8,!=1.8.1,<1.10.0,>=1.7.4 in /usr/local/lib/python3.7/dist-packages (from spacy<3.5.0,>=3.4.0->en-core-web-lg==3.4.0) (1.9.1)\n",
            "Requirement already satisfied: langcodes<4.0.0,>=3.2.0 in /usr/local/lib/python3.7/dist-packages (from spacy<3.5.0,>=3.4.0->en-core-web-lg==3.4.0) (3.3.0)\n",
            "Requirement already satisfied: wasabi<1.1.0,>=0.9.1 in /usr/local/lib/python3.7/dist-packages (from spacy<3.5.0,>=3.4.0->en-core-web-lg==3.4.0) (0.10.1)\n",
            "Requirement already satisfied: pathy>=0.3.5 in /usr/local/lib/python3.7/dist-packages (from spacy<3.5.0,>=3.4.0->en-core-web-lg==3.4.0) (0.6.2)\n",
            "Requirement already satisfied: spacy-legacy<3.1.0,>=3.0.9 in /usr/local/lib/python3.7/dist-packages (from spacy<3.5.0,>=3.4.0->en-core-web-lg==3.4.0) (3.0.9)\n",
            "Requirement already satisfied: requests<3.0.0,>=2.13.0 in /usr/local/lib/python3.7/dist-packages (from spacy<3.5.0,>=3.4.0->en-core-web-lg==3.4.0) (2.23.0)\n",
            "Requirement already satisfied: setuptools in /usr/local/lib/python3.7/dist-packages (from spacy<3.5.0,>=3.4.0->en-core-web-lg==3.4.0) (57.4.0)\n",
            "Requirement already satisfied: srsly<3.0.0,>=2.4.3 in /usr/local/lib/python3.7/dist-packages (from spacy<3.5.0,>=3.4.0->en-core-web-lg==3.4.0) (2.4.4)\n",
            "Requirement already satisfied: numpy>=1.15.0 in /usr/local/lib/python3.7/dist-packages (from spacy<3.5.0,>=3.4.0->en-core-web-lg==3.4.0) (1.19.5)\n",
            "Requirement already satisfied: typing-extensions<4.2.0,>=3.7.4 in /usr/local/lib/python3.7/dist-packages (from spacy<3.5.0,>=3.4.0->en-core-web-lg==3.4.0) (4.1.1)\n",
            "Requirement already satisfied: zipp>=0.5 in /usr/local/lib/python3.7/dist-packages (from catalogue<2.1.0,>=2.0.6->spacy<3.5.0,>=3.4.0->en-core-web-lg==3.4.0) (3.8.1)\n",
            "Requirement already satisfied: pyparsing!=3.0.5,>=2.0.2 in /usr/local/lib/python3.7/dist-packages (from packaging>=20.0->spacy<3.5.0,>=3.4.0->en-core-web-lg==3.4.0) (3.0.9)\n",
            "Requirement already satisfied: smart-open<6.0.0,>=5.2.1 in /usr/local/lib/python3.7/dist-packages (from pathy>=0.3.5->spacy<3.5.0,>=3.4.0->en-core-web-lg==3.4.0) (5.2.1)\n",
            "Requirement already satisfied: idna<3,>=2.5 in /usr/local/lib/python3.7/dist-packages (from requests<3.0.0,>=2.13.0->spacy<3.5.0,>=3.4.0->en-core-web-lg==3.4.0) (2.10)\n",
            "Requirement already satisfied: urllib3!=1.25.0,!=1.25.1,<1.26,>=1.21.1 in /usr/local/lib/python3.7/dist-packages (from requests<3.0.0,>=2.13.0->spacy<3.5.0,>=3.4.0->en-core-web-lg==3.4.0) (1.24.3)\n",
            "Requirement already satisfied: chardet<4,>=3.0.2 in /usr/local/lib/python3.7/dist-packages (from requests<3.0.0,>=2.13.0->spacy<3.5.0,>=3.4.0->en-core-web-lg==3.4.0) (3.0.4)\n",
            "Requirement already satisfied: certifi>=2017.4.17 in /usr/local/lib/python3.7/dist-packages (from requests<3.0.0,>=2.13.0->spacy<3.5.0,>=3.4.0->en-core-web-lg==3.4.0) (2022.6.15)\n",
            "Requirement already satisfied: blis<0.8.0,>=0.7.8 in /usr/local/lib/python3.7/dist-packages (from thinc<8.2.0,>=8.1.0->spacy<3.5.0,>=3.4.0->en-core-web-lg==3.4.0) (0.7.8)\n",
            "Requirement already satisfied: click<9.0.0,>=7.1.1 in /usr/local/lib/python3.7/dist-packages (from typer<0.5.0,>=0.3.0->spacy<3.5.0,>=3.4.0->en-core-web-lg==3.4.0) (7.1.2)\n",
            "Requirement already satisfied: MarkupSafe>=0.23 in /usr/local/lib/python3.7/dist-packages (from jinja2->spacy<3.5.0,>=3.4.0->en-core-web-lg==3.4.0) (2.0.1)\n",
            "\u001b[38;5;2m✔ Download and installation successful\u001b[0m\n",
            "You can now load the package via spacy.load('en_core_web_lg')\n",
            "Looking in indexes: https://pypi.org/simple, https://us-python.pkg.dev/colab-wheels/public/simple/\n",
            "Collecting de-core-news-sm==3.4.0\n",
            "  Downloading https://github.com/explosion/spacy-models/releases/download/de_core_news_sm-3.4.0/de_core_news_sm-3.4.0-py3-none-any.whl (14.6 MB)\n",
            "\u001b[K     |████████████████████████████████| 14.6 MB 5.2 MB/s \n",
            "\u001b[?25hRequirement already satisfied: spacy<3.5.0,>=3.4.0 in /usr/local/lib/python3.7/dist-packages (from de-core-news-sm==3.4.0) (3.4.1)\n",
            "Requirement already satisfied: jinja2 in /usr/local/lib/python3.7/dist-packages (from spacy<3.5.0,>=3.4.0->de-core-news-sm==3.4.0) (2.11.3)\n",
            "Requirement already satisfied: typing-extensions<4.2.0,>=3.7.4 in /usr/local/lib/python3.7/dist-packages (from spacy<3.5.0,>=3.4.0->de-core-news-sm==3.4.0) (4.1.1)\n",
            "Requirement already satisfied: numpy>=1.15.0 in /usr/local/lib/python3.7/dist-packages (from spacy<3.5.0,>=3.4.0->de-core-news-sm==3.4.0) (1.19.5)\n",
            "Requirement already satisfied: spacy-loggers<2.0.0,>=1.0.0 in /usr/local/lib/python3.7/dist-packages (from spacy<3.5.0,>=3.4.0->de-core-news-sm==3.4.0) (1.0.3)\n",
            "Requirement already satisfied: thinc<8.2.0,>=8.1.0 in /usr/local/lib/python3.7/dist-packages (from spacy<3.5.0,>=3.4.0->de-core-news-sm==3.4.0) (8.1.0)\n",
            "Requirement already satisfied: catalogue<2.1.0,>=2.0.6 in /usr/local/lib/python3.7/dist-packages (from spacy<3.5.0,>=3.4.0->de-core-news-sm==3.4.0) (2.0.8)\n",
            "Requirement already satisfied: spacy-legacy<3.1.0,>=3.0.9 in /usr/local/lib/python3.7/dist-packages (from spacy<3.5.0,>=3.4.0->de-core-news-sm==3.4.0) (3.0.9)\n",
            "Requirement already satisfied: typer<0.5.0,>=0.3.0 in /usr/local/lib/python3.7/dist-packages (from spacy<3.5.0,>=3.4.0->de-core-news-sm==3.4.0) (0.4.2)\n",
            "Requirement already satisfied: requests<3.0.0,>=2.13.0 in /usr/local/lib/python3.7/dist-packages (from spacy<3.5.0,>=3.4.0->de-core-news-sm==3.4.0) (2.23.0)\n",
            "Requirement already satisfied: srsly<3.0.0,>=2.4.3 in /usr/local/lib/python3.7/dist-packages (from spacy<3.5.0,>=3.4.0->de-core-news-sm==3.4.0) (2.4.4)\n",
            "Requirement already satisfied: murmurhash<1.1.0,>=0.28.0 in /usr/local/lib/python3.7/dist-packages (from spacy<3.5.0,>=3.4.0->de-core-news-sm==3.4.0) (1.0.7)\n",
            "Requirement already satisfied: preshed<3.1.0,>=3.0.2 in /usr/local/lib/python3.7/dist-packages (from spacy<3.5.0,>=3.4.0->de-core-news-sm==3.4.0) (3.0.6)\n",
            "Requirement already satisfied: packaging>=20.0 in /usr/local/lib/python3.7/dist-packages (from spacy<3.5.0,>=3.4.0->de-core-news-sm==3.4.0) (21.3)\n",
            "Requirement already satisfied: langcodes<4.0.0,>=3.2.0 in /usr/local/lib/python3.7/dist-packages (from spacy<3.5.0,>=3.4.0->de-core-news-sm==3.4.0) (3.3.0)\n",
            "Requirement already satisfied: pydantic!=1.8,!=1.8.1,<1.10.0,>=1.7.4 in /usr/local/lib/python3.7/dist-packages (from spacy<3.5.0,>=3.4.0->de-core-news-sm==3.4.0) (1.9.1)\n",
            "Requirement already satisfied: pathy>=0.3.5 in /usr/local/lib/python3.7/dist-packages (from spacy<3.5.0,>=3.4.0->de-core-news-sm==3.4.0) (0.6.2)\n",
            "Requirement already satisfied: tqdm<5.0.0,>=4.38.0 in /usr/local/lib/python3.7/dist-packages (from spacy<3.5.0,>=3.4.0->de-core-news-sm==3.4.0) (4.64.0)\n",
            "Requirement already satisfied: setuptools in /usr/local/lib/python3.7/dist-packages (from spacy<3.5.0,>=3.4.0->de-core-news-sm==3.4.0) (57.4.0)\n",
            "Requirement already satisfied: cymem<2.1.0,>=2.0.2 in /usr/local/lib/python3.7/dist-packages (from spacy<3.5.0,>=3.4.0->de-core-news-sm==3.4.0) (2.0.6)\n",
            "Requirement already satisfied: wasabi<1.1.0,>=0.9.1 in /usr/local/lib/python3.7/dist-packages (from spacy<3.5.0,>=3.4.0->de-core-news-sm==3.4.0) (0.10.1)\n",
            "Requirement already satisfied: zipp>=0.5 in /usr/local/lib/python3.7/dist-packages (from catalogue<2.1.0,>=2.0.6->spacy<3.5.0,>=3.4.0->de-core-news-sm==3.4.0) (3.8.1)\n",
            "Requirement already satisfied: pyparsing!=3.0.5,>=2.0.2 in /usr/local/lib/python3.7/dist-packages (from packaging>=20.0->spacy<3.5.0,>=3.4.0->de-core-news-sm==3.4.0) (3.0.9)\n",
            "Requirement already satisfied: smart-open<6.0.0,>=5.2.1 in /usr/local/lib/python3.7/dist-packages (from pathy>=0.3.5->spacy<3.5.0,>=3.4.0->de-core-news-sm==3.4.0) (5.2.1)\n",
            "Requirement already satisfied: chardet<4,>=3.0.2 in /usr/local/lib/python3.7/dist-packages (from requests<3.0.0,>=2.13.0->spacy<3.5.0,>=3.4.0->de-core-news-sm==3.4.0) (3.0.4)\n",
            "Requirement already satisfied: urllib3!=1.25.0,!=1.25.1,<1.26,>=1.21.1 in /usr/local/lib/python3.7/dist-packages (from requests<3.0.0,>=2.13.0->spacy<3.5.0,>=3.4.0->de-core-news-sm==3.4.0) (1.24.3)\n",
            "Requirement already satisfied: idna<3,>=2.5 in /usr/local/lib/python3.7/dist-packages (from requests<3.0.0,>=2.13.0->spacy<3.5.0,>=3.4.0->de-core-news-sm==3.4.0) (2.10)\n",
            "Requirement already satisfied: certifi>=2017.4.17 in /usr/local/lib/python3.7/dist-packages (from requests<3.0.0,>=2.13.0->spacy<3.5.0,>=3.4.0->de-core-news-sm==3.4.0) (2022.6.15)\n",
            "Requirement already satisfied: blis<0.8.0,>=0.7.8 in /usr/local/lib/python3.7/dist-packages (from thinc<8.2.0,>=8.1.0->spacy<3.5.0,>=3.4.0->de-core-news-sm==3.4.0) (0.7.8)\n",
            "Requirement already satisfied: click<9.0.0,>=7.1.1 in /usr/local/lib/python3.7/dist-packages (from typer<0.5.0,>=0.3.0->spacy<3.5.0,>=3.4.0->de-core-news-sm==3.4.0) (7.1.2)\n",
            "Requirement already satisfied: MarkupSafe>=0.23 in /usr/local/lib/python3.7/dist-packages (from jinja2->spacy<3.5.0,>=3.4.0->de-core-news-sm==3.4.0) (2.0.1)\n",
            "\u001b[38;5;2m✔ Download and installation successful\u001b[0m\n",
            "You can now load the package via spacy.load('de_core_news_sm')\n"
          ]
        }
      ],
      "source": [
        "!python -m spacy download en_core_web_lg\n",
        "import en_core_web_lg\n",
        "\n",
        "!python -m spacy download de_core_news_sm\n",
        "import de_core_news_sm"
      ]
    },
    {
      "cell_type": "code",
      "execution_count": 100,
      "metadata": {
        "id": "M0cck0b0tqJB"
      },
      "outputs": [],
      "source": [
        "nlp_source = en_core_web_lg.load()\n",
        "nlp_target = de_core_news_sm.load()"
      ]
    },
    {
      "cell_type": "code",
      "execution_count": 101,
      "metadata": {
        "colab": {
          "base_uri": "https://localhost:8080/"
        },
        "id": "n8kqFuiStqJB",
        "outputId": "5a982029-1746-465b-fea7-9893f2eaddf8"
      },
      "outputs": [
        {
          "data": {
            "text/plain": [
              "(7423, 12087)"
            ]
          },
          "execution_count": 101,
          "metadata": {},
          "output_type": "execute_result"
        }
      ],
      "source": [
        "vocab_len_source = len(source_word_index.keys())\n",
        "vocab_len_target = len(target_word_index.keys())\n",
        "vocab_len_source, vocab_len_target\n"
      ]
    },
    {
      "cell_type": "code",
      "execution_count": 102,
      "metadata": {
        "id": "3zeGasS4tqJC"
      },
      "outputs": [],
      "source": [
        "num_tokens_source = vocab_len_source + 1\n",
        "num_tokens_target = vocab_len_target + 1"
      ]
    },
    {
      "cell_type": "code",
      "execution_count": 103,
      "metadata": {
        "id": "vzBJZ91CtqJC"
      },
      "outputs": [],
      "source": [
        "# source language embedding dimensions\n",
        "embedding_dim_source = len(nlp_source('The').vector)\n",
        "# initialise embedding matrix for source language\n",
        "embedding_matrix_source = np.zeros((num_tokens_source, embedding_dim_source))\n",
        "for word, i in source_word_index.items():\n",
        "    embedding_vector = nlp_source(word).vector\n",
        "    if embedding_vector is not None:\n",
        "        # words not found in embedding index will be all-zeros.\n",
        "        embedding_matrix_source[i] = embedding_vector\n",
        "\n",
        "# target language embedding dimensions\n",
        "embedding_dim_target = len(nlp_target('Der').vector)\n",
        "# initialise embedding matrix for target language\n",
        "embedding_matrix_target = np.zeros((num_tokens_target, embedding_dim_target))\n",
        "for word, i in target_word_index.items():\n",
        "    embedding_vector = nlp_target(word).vector\n",
        "    if embedding_vector is not None:\n",
        "        # words not found in embedding index will be all-zeros.\n",
        "        embedding_matrix_target[i] = embedding_vector"
      ]
    },
    {
      "cell_type": "code",
      "execution_count": 104,
      "metadata": {
        "id": "nPg2iNB0iTGS"
      },
      "outputs": [],
      "source": [
        "source_train_tensor, source_test_tensor, target_train_tensor, target_test_tensor = train_test_split(\n",
        "                                                                source_tensor, target_tensor,test_size=0.2\n",
        "                                                                )"
      ]
    },
    {
      "cell_type": "code",
      "execution_count": 105,
      "metadata": {
        "id": "6Op5cOgyiTGT"
      },
      "outputs": [],
      "source": [
        "max_target_length= max(len(t) for t in  target_tensor)\n",
        "max_source_length= max(len(t) for t in source_tensor)"
      ]
    },
    {
      "cell_type": "code",
      "execution_count": 106,
      "metadata": {
        "colab": {
          "base_uri": "https://localhost:8080/"
        },
        "id": "kK2LFnW7iTGU",
        "outputId": "5215d27a-4464-4e52-8ad9-b10b62186816"
      },
      "outputs": [
        {
          "data": {
            "text/plain": [
              "(75, 67)"
            ]
          },
          "execution_count": 106,
          "metadata": {},
          "output_type": "execute_result"
        }
      ],
      "source": [
        "max_target_length, max_source_length"
      ]
    },
    {
      "cell_type": "code",
      "execution_count": 107,
      "metadata": {
        "id": "igd_hwb9iTGU"
      },
      "outputs": [],
      "source": [
        "BATCH_SIZE = 32\n",
        "#Create data in memeory \n",
        "dataset = tf.data.Dataset.from_tensor_slices((source_train_tensor, target_train_tensor)).shuffle(BATCH_SIZE)\n",
        "# shuffles the data in the batch\n",
        "dataset = dataset.batch(BATCH_SIZE, drop_remainder=True)"
      ]
    },
    {
      "cell_type": "code",
      "execution_count": 108,
      "metadata": {
        "colab": {
          "base_uri": "https://localhost:8080/"
        },
        "id": "vtr_qVkriTGV",
        "outputId": "13a1c1fa-62dc-4877-8bda-77a9e0e46b9c"
      },
      "outputs": [
        {
          "name": "stdout",
          "output_type": "stream",
          "text": [
            "(32, 67) (32, 75)\n",
            "tf.Tensor(\n",
            "[  1 117  37   3   2   0   0   0   0   0   0   0   0   0   0   0   0   0\n",
            "   0   0   0   0   0   0   0   0   0   0   0   0   0   0   0   0   0   0\n",
            "   0   0   0   0   0   0   0   0   0   0   0   0   0   0   0   0   0   0\n",
            "   0   0   0   0   0   0   0   0   0   0   0   0   0], shape=(67,), dtype=int32)\n"
          ]
        }
      ],
      "source": [
        "source_batch, target_batch =next(iter(dataset))\n",
        "print(source_batch.shape, target_batch.shape)\n",
        "print(source_batch[1])"
      ]
    },
    {
      "cell_type": "code",
      "execution_count": 109,
      "metadata": {
        "id": "WQY09zGTiTGV"
      },
      "outputs": [],
      "source": [
        "BUFFER_SIZE = len(source_train_tensor)\n",
        "steps_per_epoch= BUFFER_SIZE//BATCH_SIZE\n",
        "embedding_dim= 256\n",
        "units= 256\n",
        "attention_layer_units = 100\n",
        "source_vocab_size= len(source_sentence_tokenizer.word_index)+1\n",
        "target_vocab_size= len(target_sentence_tokenizer.word_index)+1"
      ]
    },
    {
      "cell_type": "code",
      "execution_count": 110,
      "metadata": {
        "id": "6v1mFdcxiTGV"
      },
      "outputs": [],
      "source": [
        "class Encoder(tf.keras.Model):\n",
        "    def __init__(self, vocab_size = num_tokens_source, embedding_dim = embedding_dim_source, \n",
        "                    encoder_units = units, batch_size=BATCH_SIZE):\n",
        "        super(Encoder, self).__init__()\n",
        "        self.batch_size = batch_size\n",
        "        self.encoder_units = encoder_units\n",
        "        self.embedding = Embedding(vocab_size, embedding_dim, \n",
        "                                    embeddings_initializer = Constant(embedding_matrix_source),\n",
        "                                    trainable = False)\n",
        "        self.lstm= Bidirectional(LSTM (encoder_units, \n",
        "                                      return_sequences=True,\n",
        "                                      return_state=True,                                      \n",
        "                                      recurrent_initializer='glorot_uniform'\n",
        "                                     ))\n",
        "    def call(self, x):\n",
        "                                                                # x = (m, Tx)\n",
        "                                                                # hidden = (m, encoder_units)\n",
        "                                                                \n",
        "        x = self.embedding(x)                                   # x = (m, Tx, embedding_dim)\n",
        "        # pass input x through bi-directional LSTM\n",
        "                                                                \n",
        "        (enc_sequential, enc_forward_h, \n",
        "        enc_forward_c, enc_backward_h, enc_backward_c) = self.lstm(x)\n",
        "\n",
        "        # concatenate forward and backward states\n",
        "        enc_final_h = Concatenate()([enc_forward_h, enc_backward_h])\n",
        "        enc_final_c = Concatenate()([enc_forward_c, enc_backward_c])\n",
        "\n",
        "        return enc_sequential, enc_final_h, enc_final_c                     # enc_sequential = (m, Tx, 2 * encoder_units) \n",
        "                                                                            # enc_h = (m, 2 * encoder_units)\n",
        "                                                                            # enc_c = (m, 2 * encoder_units)\n",
        "    \n",
        "    # def initialize_state(self):\n",
        "    #     return tf.zeros((self.batch_size, self.encoder_units))\n",
        "    "
      ]
    },
    {
      "cell_type": "code",
      "execution_count": 111,
      "metadata": {
        "colab": {
          "base_uri": "https://localhost:8080/"
        },
        "id": "JxvIG1d4iTGW",
        "outputId": "ce7a6a1d-2843-48e3-d1f0-eb791e148d90"
      },
      "outputs": [
        {
          "name": "stdout",
          "output_type": "stream",
          "text": [
            "Encoder sequential: (32, 67, 512)\n",
            "Encoder final state_h: (32, 512)\n",
            "Encoder final state_c: (32, 512)\n"
          ]
        }
      ],
      "source": [
        "# check dimensions\n",
        "encoder = Encoder(num_tokens_source, embedding_dim_source, units, BATCH_SIZE)\n",
        "\n",
        "#initial_state = encoder.initialize_state()\n",
        "enc_sequential, enc_final_h, enc_final_c = encoder(source_batch)\n",
        "\n",
        "print (f'Encoder sequential: {enc_sequential.shape}')\n",
        "print (f'Encoder final state_h: {enc_final_h.shape}')\n",
        "print (f'Encoder final state_c: {enc_final_c.shape}')"
      ]
    },
    {
      "cell_type": "code",
      "execution_count": 112,
      "metadata": {
        "id": "M79s6f5miTGW"
      },
      "outputs": [],
      "source": [
        "class BahdanauAttention(tf.keras.layers.Layer):\n",
        "    def __init__(self, units):\n",
        "        super( BahdanauAttention, self).__init__()\n",
        "        self.W1= tf.keras.layers.Dense(units)  # decoder hidden (at time-step \"t-1\")\n",
        "        self.W2= tf.keras.layers.Dense(units)  # encoder hidden (at time-step \"t\")\n",
        "        self.V= tf.keras.layers.Dense(1)\n",
        "    \n",
        "    def call(self, dec_hidden, enc_hidden):\n",
        "                                                                # dec_hidden = (m, 2*units) \n",
        "                                                                # enc_hidden:   (m, Tx, 2*units)\n",
        "\n",
        "        dec_hidden_with_time = tf.expand_dims(dec_hidden, 1)    # dec_hidden_with_time = (m, 1, 2*units)\n",
        "        \n",
        "                                                                \n",
        "        # W1() = (m, 1, 10) \n",
        "        # W2() = (m, Tx, 10)\n",
        "        # Broadcasting happens when you add\n",
        "        # W1() + W2 () = (m, Tx, 10)\n",
        "\n",
        "        score = self.V(tf.nn.tanh(self.W1(dec_hidden_with_time) + self.W2(enc_hidden))) # (m, Tx, 1)\n",
        "        \n",
        "        # normalise scores with softmax\n",
        "        attention_weights = tf.nn.softmax(score, axis=1)                                # (m, Tx, 1)\n",
        "        \n",
        "        # apply each weight to encoder hidden state at respective time-step \n",
        "        context_vector= attention_weights * enc_hidden                                  # (m, Tx, 2*units)\n",
        "       \n",
        "        # linear combination of enc_hidden vectors for all Tx\n",
        "        # so sum along Tx axis\n",
        "        context_vector = tf.reduce_sum(context_vector, axis=1)                          # (m, 2*units)\n",
        "        return context_vector, attention_weights"
      ]
    },
    {
      "cell_type": "code",
      "execution_count": 113,
      "metadata": {
        "colab": {
          "base_uri": "https://localhost:8080/"
        },
        "id": "I3EhD_3tiTGW",
        "outputId": "eac4fe95-61ab-42e5-c70f-4e3ea8ef6f9a"
      },
      "outputs": [
        {
          "name": "stdout",
          "output_type": "stream",
          "text": [
            "context vector: (batch size, units) (32, 512)\n",
            "attention weights: (batch_size, sequence_length, 1) (32, 67, 1)\n"
          ]
        }
      ],
      "source": [
        "attention_layer= BahdanauAttention(attention_layer_units)\n",
        "attention_result, attention_weights = attention_layer(enc_final_h, enc_sequential)\n",
        "print(f\"context vector: (batch size, units) {attention_result.shape}\")\n",
        "print(f\"attention weights: (batch_size, sequence_length, 1) {attention_weights.shape}\")"
      ]
    },
    {
      "cell_type": "code",
      "execution_count": 114,
      "metadata": {
        "id": "lMa2eOefiTGX"
      },
      "outputs": [],
      "source": [
        "# Decoder for one time-step\n",
        "\n",
        "class Decoder(tf.keras.Model):\n",
        "    def __init__(self, vocab_size = num_tokens_target, embedding_dim = embedding_dim_target, \n",
        "                    decoder_units = 2*units, batch_sz=BATCH_SIZE):\n",
        "        super (Decoder,self).__init__()\n",
        "        self.batch_sz= batch_sz\n",
        "        self.decoder_units = decoder_units\n",
        "        self.embedding = Embedding(vocab_size, embedding_dim,\n",
        "                                    embeddings_initializer = Constant(embedding_matrix_target),\n",
        "                                    trainable = False)\n",
        "        self.lstm= LSTM (decoder_units, \n",
        "                        return_sequences= True,\n",
        "                        return_state=True,\n",
        "                        recurrent_initializer='glorot_uniform')\n",
        "        # Fully connected layer\n",
        "        self.fc= Dense(vocab_size)      # Note, we don't use an activation here.\n",
        "                                        # For the calculation of the loss, we will use \n",
        "                                        # sparse_softmax_cross_entropy_with_logits, which performs \n",
        "                                        # the softmax on the logits internally for greater efficiency\n",
        "        \n",
        "        # attention\n",
        "        self.attention = BahdanauAttention(attention_layer_units)\n",
        "    \n",
        "    def call(self, y, dec_h, dec_c, enc_sequential):\n",
        "                                                                                    # dec_h: (m, 2*units) \n",
        "                                                                                    # dec_c: (m, 2*units)\n",
        "                                                                                    # enc_sequential: (m, Tx, 2*units) \n",
        "\n",
        "        context_vector, attention_weights = self.attention(dec_h, enc_sequential)   # context_vector = (m, 2*units)\n",
        "        \n",
        "        y= self.embedding(y)                                                        # y = (m, 1, embedding_dim)\n",
        "        \n",
        "        # concatenate context vector and embedding for output sequence\n",
        "        y = tf.concat([tf.expand_dims(context_vector, 1), y],                       # (m, 1, 2*units) + (m, 1, embedding_dim)\n",
        "                                      axis=-1)                                      # (m, 1, 2*units + embedding_dim)\n",
        "        \n",
        "        # passing the concatenated vector to the GRU\n",
        "        output, dec_h, dec_c = self.lstm(y, initial_state = [dec_h, dec_c])                                         # output = (m, 1, 2*units)\n",
        "                                                                                    # dec_h = (m, 2*units)\n",
        "                                                                                    # dec_c = (m, 2*units)\n",
        "\n",
        "        output= tf.reshape(output, (-1, output.shape[2]))                           # output = (m, 2*units)\n",
        "        \n",
        "        # pass the output thru Fc layers\n",
        "        y = self.fc(output)                                                         # y = (m, vocab_size)\n",
        "        return y, dec_h, dec_c, attention_weights"
      ]
    },
    {
      "cell_type": "code",
      "execution_count": 115,
      "metadata": {
        "colab": {
          "base_uri": "https://localhost:8080/"
        },
        "id": "XOp4bRG2iTGX",
        "outputId": "f28c8c0c-2901-4b75-eecf-1413e733aae1"
      },
      "outputs": [
        {
          "name": "stdout",
          "output_type": "stream",
          "text": [
            "Decoder output shape: (batch_size, vocab size) (32, 12088)\n"
          ]
        }
      ],
      "source": [
        "# Make sure to pass in \"2*units\", since the encoder uses bi-directional LSTM\n",
        "# We're feeding final_h and final_c from Encoder as init_h and init_c for Decoder\n",
        "decoder= Decoder(num_tokens_target, embedding_dim_target, 2*units, BATCH_SIZE)\n",
        "\n",
        "sample_decoder_output, _, _, _ = decoder(tf.random.uniform((BATCH_SIZE,1)), enc_final_h, enc_final_c, enc_sequential)\n",
        "print (f'Decoder output shape: (batch_size, vocab size) {sample_decoder_output.shape}')"
      ]
    },
    {
      "cell_type": "code",
      "execution_count": 116,
      "metadata": {
        "id": "yYLjjeqaiTGX"
      },
      "outputs": [],
      "source": [
        "#Define the optimizer and the loss function\n",
        "optimizer = tf.keras.optimizers.Adam()"
      ]
    },
    {
      "cell_type": "code",
      "execution_count": 117,
      "metadata": {
        "colab": {
          "base_uri": "https://localhost:8080/"
        },
        "id": "mopUOiKullI4",
        "outputId": "3430fd49-8d5b-4d43-ed3e-e456521e52ab"
      },
      "outputs": [
        {
          "data": {
            "text/plain": [
              "<tf.Variable 'Variable:0' shape=(3,) dtype=int32, numpy=array([1, 2, 3], dtype=int32)>"
            ]
          },
          "execution_count": 117,
          "metadata": {},
          "output_type": "execute_result"
        }
      ],
      "source": [
        "tf.Variable([1,2,3])"
      ]
    },
    {
      "cell_type": "code",
      "execution_count": 118,
      "metadata": {
        "colab": {
          "base_uri": "https://localhost:8080/"
        },
        "id": "4yVZ_ygIleE2",
        "outputId": "d61369fa-f020-400e-a1e7-98d96eb0ae9a"
      },
      "outputs": [
        {
          "data": {
            "text/plain": [
              "<tf.Tensor: shape=(3,), dtype=int32, numpy=array([0, 0, 1], dtype=int32)>"
            ]
          },
          "execution_count": 118,
          "metadata": {},
          "output_type": "execute_result"
        }
      ],
      "source": [
        "tf.cast (tf.experimental.numpy.equal(tf.Variable([1,2,3]), 3), tf.int32)"
      ]
    },
    {
      "cell_type": "code",
      "execution_count": 119,
      "metadata": {
        "id": "wE2kUz2-iTGX"
      },
      "outputs": [],
      "source": [
        "def loss_function(real, pred):      # \"real\" = (m, 1), \"pred\" = (m, vocab_size)\n",
        "    mask = 1 - tf.cast(tf.experimental.numpy.equal(real, 0), tf.float32)    # mask = 1 when \"real\" != 0\n",
        "    loss_ = tf.nn.sparse_softmax_cross_entropy_with_logits(labels=real, logits=pred) * mask\n",
        "    return tf.reduce_mean(loss_)"
      ]
    },
    {
      "cell_type": "code",
      "execution_count": 120,
      "metadata": {
        "id": "0qJFddCvhgy8"
      },
      "outputs": [],
      "source": [
        "@tf.function\n",
        "def get_loss_and_grads(inp, targ):\n",
        "    loss = 0\n",
        "    with tf.GradientTape() as tape:\n",
        "        enc_sequential, enc_final_h, enc_final_c = encoder(inp)\n",
        "        dec_h = enc_final_h\n",
        "        dec_c = enc_final_c\n",
        "        dec_input = tf.expand_dims([target_sentence_tokenizer.word_index['start_']] * BATCH_SIZE, 1)    # (m, 1)\n",
        "\n",
        "        # Teacher forcing - feeding the target as the next input\n",
        "        for t in range(1, targ.shape[1]):\n",
        "            # passing enc_output to the decoder\n",
        "            predictions, dec_h, dec_c, _ = decoder(dec_input, dec_h, dec_c, enc_sequential) # predictions = (m, vocab_size)\n",
        "            \n",
        "            loss += loss_function(targ[:, t], predictions)\n",
        "            \n",
        "            # update dec_input for teacher forcing\n",
        "            dec_input = tf.expand_dims(targ[:, t], 1)\n",
        "        \n",
        "        # Now you have the loss for the current batch (\"inputs\")\n",
        "        variables = encoder.variables + decoder.variables\n",
        "        gradients = tape.gradient(loss, variables)\n",
        "        return loss, gradients\n"
      ]
    },
    {
      "cell_type": "code",
      "execution_count": 121,
      "metadata": {
        "colab": {
          "base_uri": "https://localhost:8080/"
        },
        "id": "vd-ugFzbhgy8",
        "outputId": "970937e1-5470-45fd-afa2-eacb2873b1f0"
      },
      "outputs": [
        {
          "name": "stdout",
          "output_type": "stream",
          "text": [
            "Epoch 1 Batch 0 Loss 72.9189\n",
            "Epoch 1 Batch 50 Loss 46.8038\n",
            "Epoch 1 Batch 100 Loss 38.6153\n",
            "Epoch 1 Batch 150 Loss 34.2724\n",
            "Epoch 1 Batch 200 Loss 32.7875\n",
            "Epoch 1 Batch 250 Loss 39.9678\n",
            "Epoch 1 Batch 300 Loss 34.8228\n",
            "Epoch 1 Batch 350 Loss 27.4286\n",
            "Epoch 1 Batch 400 Loss 33.6078\n",
            "Epoch 1 Batch 450 Loss 34.7113\n",
            "Epoch 1 Batch 500 Loss 32.9078\n",
            "Epoch 1 Batch 550 Loss 31.8565\n",
            "Epoch 1 Batch 600 Loss 30.2260\n",
            "Epoch 1 Loss 36.1542\n",
            "Time taken for 1 epoch 211.78836870193481 sec\n",
            "\n",
            "Epoch 2 Batch 0 Loss 36.1259\n",
            "Epoch 2 Batch 50 Loss 33.9412\n",
            "Epoch 2 Batch 100 Loss 26.9426\n",
            "Epoch 2 Batch 150 Loss 32.5979\n",
            "Epoch 2 Batch 200 Loss 23.8800\n",
            "Epoch 2 Batch 250 Loss 28.6254\n",
            "Epoch 2 Batch 300 Loss 27.1898\n",
            "Epoch 2 Batch 350 Loss 20.0378\n",
            "Epoch 2 Batch 400 Loss 27.5377\n",
            "Epoch 2 Batch 450 Loss 20.3172\n",
            "Epoch 2 Batch 500 Loss 29.1581\n",
            "Epoch 2 Batch 550 Loss 26.1037\n",
            "Epoch 2 Batch 600 Loss 22.4754\n",
            "Epoch 2 Loss 26.1955\n",
            "Time taken for 1 epoch 137.76047205924988 sec\n",
            "\n",
            "Epoch 3 Batch 0 Loss 27.6091\n",
            "Epoch 3 Batch 50 Loss 24.9955\n",
            "Epoch 3 Batch 100 Loss 21.7885\n",
            "Epoch 3 Batch 150 Loss 22.3192\n",
            "Epoch 3 Batch 200 Loss 20.8484\n",
            "Epoch 3 Batch 250 Loss 24.5263\n",
            "Epoch 3 Batch 300 Loss 21.9962\n",
            "Epoch 3 Batch 350 Loss 18.1607\n",
            "Epoch 3 Batch 400 Loss 15.9149\n",
            "Epoch 3 Batch 450 Loss 20.1159\n",
            "Epoch 3 Batch 500 Loss 20.1791\n",
            "Epoch 3 Batch 550 Loss 14.8749\n",
            "Epoch 3 Batch 600 Loss 20.9957\n",
            "Epoch 3 Loss 20.7467\n",
            "Time taken for 1 epoch 137.7201738357544 sec\n",
            "\n",
            "Epoch 4 Batch 0 Loss 23.3574\n",
            "Epoch 4 Batch 50 Loss 20.0035\n",
            "Epoch 4 Batch 100 Loss 18.0343\n",
            "Epoch 4 Batch 150 Loss 16.1177\n",
            "Epoch 4 Batch 200 Loss 14.9072\n",
            "Epoch 4 Batch 250 Loss 17.6369\n",
            "Epoch 4 Batch 300 Loss 13.2126\n",
            "Epoch 4 Batch 350 Loss 14.6496\n",
            "Epoch 4 Batch 400 Loss 12.0038\n",
            "Epoch 4 Batch 450 Loss 16.6648\n",
            "Epoch 4 Batch 500 Loss 14.4976\n",
            "Epoch 4 Batch 550 Loss 15.0775\n",
            "Epoch 4 Batch 600 Loss 16.8387\n",
            "Epoch 4 Loss 16.4194\n",
            "Time taken for 1 epoch 138.66330814361572 sec\n",
            "\n",
            "Epoch 5 Batch 0 Loss 15.0258\n",
            "Epoch 5 Batch 50 Loss 17.4625\n",
            "Epoch 5 Batch 100 Loss 12.3074\n",
            "Epoch 5 Batch 150 Loss 14.0085\n",
            "Epoch 5 Batch 200 Loss 12.9131\n",
            "Epoch 5 Batch 250 Loss 15.7270\n",
            "Epoch 5 Batch 300 Loss 13.8942\n",
            "Epoch 5 Batch 350 Loss 11.1981\n",
            "Epoch 5 Batch 400 Loss 11.8073\n",
            "Epoch 5 Batch 450 Loss 11.9703\n",
            "Epoch 5 Batch 500 Loss 12.1632\n",
            "Epoch 5 Batch 550 Loss 11.7758\n",
            "Epoch 5 Batch 600 Loss 13.9415\n",
            "Epoch 5 Loss 13.0354\n",
            "Time taken for 1 epoch 137.361665725708 sec\n",
            "\n"
          ]
        }
      ],
      "source": [
        "EPOCHS = 5\n",
        "\n",
        "for epoch in range(EPOCHS):\n",
        "    start = time.time()\n",
        "    total_loss = 0\n",
        "\n",
        "    for (batch, (inp, targ)) in enumerate(dataset):\n",
        "        loss, gradients = get_loss_and_grads(inp, targ)\n",
        "        total_loss += loss\n",
        "        variables = encoder.variables + decoder.variables\n",
        "        optimizer.apply_gradients(zip(gradients, variables))\n",
        "\n",
        "        if batch % 50 == 0:\n",
        "            print(f'Epoch {epoch + 1} Batch {batch} Loss {loss.numpy():.4f}')\n",
        "    \n",
        "    print(f'Epoch {epoch + 1} Loss {total_loss / steps_per_epoch:.4f}')\n",
        "    print(f'Time taken for 1 epoch {time.time() - start} sec\\n')\n",
        "        "
      ]
    },
    {
      "cell_type": "code",
      "execution_count": 126,
      "metadata": {
        "colab": {
          "base_uri": "https://localhost:8080/"
        },
        "id": "aesaZJnivI2e",
        "outputId": "be5d32bc-5e98-4293-fd34-e603586c8ee1"
      },
      "outputs": [
        {
          "name": "stdout",
          "output_type": "stream",
          "text": [
            "Epoch 1 Batch 0 Loss 12.6790\n",
            "Epoch 1 Batch 100 Loss 10.0617\n",
            "Epoch 1 Batch 200 Loss 7.0725\n",
            "Epoch 1 Batch 300 Loss 10.0636\n",
            "Epoch 1 Batch 400 Loss 9.2048\n",
            "Epoch 1 Batch 500 Loss 9.3338\n",
            "Epoch 1 Batch 600 Loss 8.8817\n",
            "Epoch 1 Loss 10.6039\n",
            "Time taken for 1 epoch 137.8498179912567 sec\n",
            "\n",
            "Epoch 2 Batch 0 Loss 10.4612\n",
            "Epoch 2 Batch 100 Loss 9.8070\n",
            "Epoch 2 Batch 200 Loss 7.2255\n",
            "Epoch 2 Batch 300 Loss 7.8891\n",
            "Epoch 2 Batch 400 Loss 6.4299\n",
            "Epoch 2 Batch 500 Loss 8.4524\n",
            "Epoch 2 Batch 600 Loss 11.0487\n",
            "Epoch 2 Loss 8.8036\n",
            "Time taken for 1 epoch 137.3922634124756 sec\n",
            "\n",
            "Epoch 3 Batch 0 Loss 8.1057\n",
            "Epoch 3 Batch 100 Loss 6.9432\n",
            "Epoch 3 Batch 200 Loss 5.5345\n",
            "Epoch 3 Batch 300 Loss 7.0023\n",
            "Epoch 3 Batch 400 Loss 5.8528\n",
            "Epoch 3 Batch 500 Loss 6.6952\n",
            "Epoch 3 Batch 600 Loss 7.7539\n",
            "Epoch 3 Loss 7.3728\n",
            "Time taken for 1 epoch 138.5031864643097 sec\n",
            "\n",
            "Epoch 4 Batch 0 Loss 6.9905\n",
            "Epoch 4 Batch 100 Loss 7.1540\n",
            "Epoch 4 Batch 200 Loss 4.2753\n",
            "Epoch 4 Batch 300 Loss 7.3268\n",
            "Epoch 4 Batch 400 Loss 4.4906\n",
            "Epoch 4 Batch 500 Loss 5.0656\n",
            "Epoch 4 Batch 600 Loss 7.1362\n",
            "Epoch 4 Loss 6.2042\n",
            "Time taken for 1 epoch 137.0379195213318 sec\n",
            "\n",
            "Epoch 5 Batch 0 Loss 5.5203\n",
            "Epoch 5 Batch 100 Loss 5.2866\n",
            "Epoch 5 Batch 200 Loss 3.8232\n",
            "Epoch 5 Batch 300 Loss 4.7420\n",
            "Epoch 5 Batch 400 Loss 4.4272\n",
            "Epoch 5 Batch 500 Loss 4.0084\n",
            "Epoch 5 Batch 600 Loss 5.3639\n",
            "Epoch 5 Loss 5.2682\n",
            "Time taken for 1 epoch 137.38950443267822 sec\n",
            "\n"
          ]
        }
      ],
      "source": [
        "EPOCHS = 5\n",
        "\n",
        "for epoch in range(EPOCHS):\n",
        "    start = time.time()\n",
        "    total_loss = 0\n",
        "\n",
        "    for (batch, (inp, targ)) in enumerate(dataset):\n",
        "        loss, gradients = get_loss_and_grads(inp, targ)\n",
        "        total_loss += loss\n",
        "        variables = encoder.variables + decoder.variables\n",
        "        optimizer.apply_gradients(zip(gradients, variables))\n",
        "\n",
        "        if batch % 100 == 0:\n",
        "            print(f'Epoch {epoch + 1} Batch {batch} Loss {loss.numpy():.4f}')\n",
        "    \n",
        "    print(f'Epoch {epoch + 1} Loss {total_loss / steps_per_epoch:.4f}')\n",
        "    print(f'Time taken for 1 epoch {time.time() - start} sec\\n')\n",
        "        "
      ]
    },
    {
      "cell_type": "code",
      "execution_count": null,
      "metadata": {
        "id": "E3946sMh6U_N"
      },
      "outputs": [],
      "source": [
        "# EPOCHS = 5\n",
        "\n",
        "# # initial_state = encoder.initialize_state()\n",
        "# # enc_sequential, enc_final_h, enc_final_c = encoder(source_batch, initial_state)\n",
        "# # sample_decoder_output, _, _, _ = decoder(tf.random.uniform((BATCH_SIZE,1)), enc_final_h, enc_final_c, enc_sequential)\n",
        "# # decoder returns: y, dec_h, dec_c, attention_weights\n",
        "\n",
        "# for epoch in range(EPOCHS):\n",
        "#     start = time.time()\n",
        "    \n",
        "#     #initial_state = encoder.initialize_state()\n",
        "#     total_loss = 0\n",
        "    \n",
        "#     for (batch, (inp, targ)) in enumerate(dataset):\n",
        "#                                                         # inp: (batch_size, Tx)\n",
        "#                                                         # targ: (batch_size, Ty)\n",
        "#         loss = 0\n",
        "        \n",
        "#         with tf.GradientTape() as tape:\n",
        "#             enc_sequential, enc_final_h, enc_final_c = encoder(inp)\n",
        "            \n",
        "#             dec_h = enc_final_h\n",
        "#             dec_c = enc_final_c\n",
        "            \n",
        "#             dec_input = tf.expand_dims([target_sentence_tokenizer.word_index['start_']] * BATCH_SIZE, 1)    # (m, 1)   \n",
        "            \n",
        "#             # Teacher forcing - feeding the target as the next input\n",
        "#             for t in range(1, targ.shape[1]):\n",
        "#                 # passing enc_output to the decoder\n",
        "#                 predictions, dec_h, dec_c, _ = decoder(dec_input, dec_h, dec_c, enc_sequential) # predictions = (m, vocab_size)\n",
        "                \n",
        "#                 loss += loss_function(targ[:, t], predictions)\n",
        "                \n",
        "#                 # update dec_input for teacher forcing\n",
        "#                 dec_input = tf.expand_dims(targ[:, t], 1)\n",
        "        \n",
        "#         batch_loss = (loss / int(targ.shape[1]))\n",
        "        \n",
        "#         total_loss += batch_loss\n",
        "        \n",
        "#         variables = encoder.variables + decoder.variables\n",
        "        \n",
        "#         gradients = tape.gradient(loss, variables)\n",
        "        \n",
        "#         optimizer.apply_gradients(zip(gradients, variables))\n",
        "        \n",
        "#         if batch % 50 == 0:\n",
        "#             print(f'Epoch {epoch + 1} Batch {batch} Loss {batch_loss.numpy():.4f}')\n",
        "    \n",
        "#     print(f'Epoch {epoch + 1} Loss {total_loss / steps_per_epoch:.4f}')\n",
        "#     print(f'Time taken for 1 epoch {time.time() - start} sec\\n')"
      ]
    },
    {
      "cell_type": "code",
      "execution_count": 127,
      "metadata": {
        "id": "9DrR6N6biTGY"
      },
      "outputs": [],
      "source": [
        "def evaluate(inputs, encoder, decoder, max_source_length, max_target_length):\n",
        "    \"\"\"\n",
        "    Arguments: \n",
        "    inputs -- (1, Tx) -- input sequence integers\n",
        "\n",
        "    Returns:\n",
        "    results -- predicted sentence in words\n",
        "    input_sentence -- input sentence in words\n",
        "    attention_plot -- (max_target_length, max_source_length)\n",
        "    \"\"\"\n",
        "    \n",
        "    # Initialise attention_plot with 0s\n",
        "    attention_plot = np.zeros((max_target_length, max_source_length))\n",
        "    \n",
        "    # Translate sequence of integers into words\n",
        "    input_sentence = ''\n",
        "    for i in inputs[0]:\n",
        "        if i == 0:\n",
        "            break\n",
        "        input_sentence = input_sentence + source_sentence_tokenizer.index_word[i] + ' '\n",
        "    \n",
        "    \n",
        "\n",
        "    inputs = tf.convert_to_tensor(inputs)\n",
        "    \n",
        "    result = ''\n",
        "\n",
        "    # Pass inputs through Encoder\n",
        "    enc_sequential, enc_final_h, enc_final_c = encoder(inputs)\n",
        "\n",
        "    dec_h = enc_final_h\n",
        "    dec_c = enc_final_c\n",
        "    \n",
        "    # Will input \"start_\" through Decoder\n",
        "    dec_input = tf.expand_dims([target_sentence_tokenizer.word_index['start_']], 0)             # dec_input = (1, 1)\n",
        "\n",
        "    # Decoder:\n",
        "    # Input: y, dec_h, dec_c, enc_sequential\n",
        "    # Return: y, dec_h, dec_c, attention_weights\n",
        "\n",
        "    # start decoding\n",
        "    for t in range(max_target_length): # limit the length of the decoded sequence\n",
        "        predictions, dec_h, dec_c, attention_weights = decoder(dec_input, dec_h, dec_c, enc_sequential)    # predictions = (1, vocab_size)\n",
        "                                                                                                           # dec_h = (1, 2*units)\n",
        "                                                                                                           # dec_c = (1, 2*units)\n",
        "        attention_weights = tf.reshape(attention_weights, (-1, ))\n",
        "        attention_plot[t] = attention_weights.numpy()\n",
        "        \n",
        "        predicted_id = tf.argmax(predictions[0]).numpy()\n",
        "        result += target_sentence_tokenizer.index_word[predicted_id] + ' '\n",
        "\n",
        "        # stop decoding if '_end' is predicted\n",
        "        if target_sentence_tokenizer.index_word[predicted_id] == '_end':\n",
        "            return result, input_sentence, attention_plot\n",
        "        \n",
        "        # the predicted ID is fed back into the model\n",
        "        dec_input = tf.expand_dims([predicted_id], 0)                                         # dec_input = (1,1)  \n",
        "\n",
        "    return result, input_sentence, attention_plot\n",
        "  \n",
        "def predict_random_val_sentence():\n",
        "    \n",
        "    k = np.random.randint(len(source_train_tensor))\n",
        "    random_input = source_train_tensor[k]\n",
        "    random_output = target_train_tensor[k]\n",
        "    random_input = np.expand_dims(random_input,0)           # random_input = (1, Tx)\n",
        "    result, sentence, attention_plot = evaluate(random_input, encoder, decoder, max_source_length, max_target_length)\n",
        "    print(f'Input: {sentence[7:-5]}')                   # Want to skip \"start_ \" and \" _end\"\n",
        "    print(f'Predicted translation: {result[:-5]}')\n",
        "    true_translation = ''\n",
        "    for i in random_output:\n",
        "        if i == 0:\n",
        "            break\n",
        "        true_translation = true_translation + target_sentence_tokenizer.index_word[i] + ' '\n",
        "    true_translation = true_translation[7:-6]               # Want to skip \"start_\" and \" _end \"\n",
        "    print(f'Actual translation: {true_translation}')\n",
        "    \n",
        "    attention_plot = attention_plot[:len(result.split(' '))-2, 1:len(sentence.split(' '))-1]\n",
        "    sentence, result = sentence.split(' '), result.split(' ')\n",
        "    sentence = sentence[1:-1]\n",
        "    result = result[:-2]\n",
        "    sns.heatmap(attention_plot, cmap = 'hot', annot = True, xticklabels = sentence, yticklabels = result)\n"
      ]
    },
    {
      "cell_type": "code",
      "execution_count": 128,
      "metadata": {
        "colab": {
          "base_uri": "https://localhost:8080/",
          "height": 319
        },
        "id": "t9_7xIohv7z4",
        "outputId": "47a2bf3b-dc08-4d10-9fc0-18c7ae02d06d"
      },
      "outputs": [
        {
          "name": "stdout",
          "output_type": "stream",
          "text": [
            "Input: he asked me if i was busy \n",
            "Predicted translation: er fragte mich ob ich beschaeftigt sei \n",
            "Actual translation: er fragte mich ob ich beschaeftigt sei\n"
          ]
        },
        {
          "data": {
            "image/png": "[encoded data removed]",
            "text/plain": [
              "<Figure size 432x288 with 2 Axes>"
            ]
          },
          "metadata": {
            "needs_background": "light"
          },
          "output_type": "display_data"
        }
      ],
      "source": [
        "predict_random_val_sentence()"
      ]
    },
    {
      "cell_type": "code",
      "execution_count": 129,
      "metadata": {
        "colab": {
          "base_uri": "https://localhost:8080/",
          "height": 319
        },
        "id": "gbnea0tov-_p",
        "outputId": "bac25a3d-7b6c-4054-ed41-42453ff3b315"
      },
      "outputs": [
        {
          "name": "stdout",
          "output_type": "stream",
          "text": [
            "Input: i hope no one sees us \n",
            "Predicted translation: ich hoffe wir sehe uns \n",
            "Actual translation: ich hoffe dass uns niemand sieht\n"
          ]
        },
        {
          "data": {
            "image/png": "[encoded data removed]",
            "text/plain": [
              "<Figure size 432x288 with 2 Axes>"
            ]
          },
          "metadata": {
            "needs_background": "light"
          },
          "output_type": "display_data"
        }
      ],
      "source": [
        "predict_random_val_sentence()"
      ]
    },
    {
      "cell_type": "code",
      "execution_count": 130,
      "metadata": {
        "colab": {
          "base_uri": "https://localhost:8080/",
          "height": 319
        },
        "id": "LO60VnJ5FX5G",
        "outputId": "f66243f2-a713-40f1-cf5b-a72bf6127eab"
      },
      "outputs": [
        {
          "name": "stdout",
          "output_type": "stream",
          "text": [
            "Input: the nights are getting shorter \n",
            "Predicted translation: die naechte werden kuerzer \n",
            "Actual translation: die naechte werden kuerzer\n"
          ]
        },
        {
          "data": {
            "image/png": "[encoded data removed]",
            "text/plain": [
              "<Figure size 432x288 with 2 Axes>"
            ]
          },
          "metadata": {
            "needs_background": "light"
          },
          "output_type": "display_data"
        }
      ],
      "source": [
        "predict_random_val_sentence()"
      ]
    },
    {
      "cell_type": "code",
      "execution_count": 131,
      "metadata": {
        "colab": {
          "base_uri": "https://localhost:8080/",
          "height": 319
        },
        "id": "-bu7JYhRFfM0",
        "outputId": "126205de-06c6-45ae-e8f3-ab85cfb6b0bb"
      },
      "outputs": [
        {
          "name": "stdout",
          "output_type": "stream",
          "text": [
            "Input: she helped him tie his tie \n",
            "Predicted translation: sie hat ihn ihrem chef und krawatte zu binden \n",
            "Actual translation: sie half ihm seine krawatte zu binden\n"
          ]
        },
        {
          "data": {
            "image/png": "[encoded data removed]",
            "text/plain": [
              "<Figure size 432x288 with 2 Axes>"
            ]
          },
          "metadata": {
            "needs_background": "light"
          },
          "output_type": "display_data"
        }
      ],
      "source": [
        "predict_random_val_sentence()"
      ]
    },
    {
      "cell_type": "code",
      "execution_count": null,
      "metadata": {
        "colab": {
          "base_uri": "https://localhost:8080/",
          "height": 319
        },
        "id": "YtLnvf1dXVkg",
        "outputId": "c482a054-39d1-4987-c116-29c13b391228"
      },
      "outputs": [
        {
          "name": "stdout",
          "output_type": "stream",
          "text": [
            "Input: tom imitated mary \n",
            "Predicted translation: tom ahmte maria \n",
            "Actual translation: tom ahmte maria nach\n"
          ]
        },
        {
          "data": {
            "image/png": "[encoded data removed]",
            "text/plain": [
              "<Figure size 432x288 with 2 Axes>"
            ]
          },
          "metadata": {
            "needs_background": "light"
          },
          "output_type": "display_data"
        }
      ],
      "source": [
        "predict_random_val_sentence()"
      ]
    },
    {
      "cell_type": "code",
      "execution_count": null,
      "metadata": {
        "colab": {
          "base_uri": "https://localhost:8080/",
          "height": 319
        },
        "id": "IUbTXlJXXXkW",
        "outputId": "286ddf6b-f947-4e0f-dfcf-5ce86786003f"
      },
      "outputs": [
        {
          "name": "stdout",
          "output_type": "stream",
          "text": [
            "Input: ill get the ladder \n",
            "Predicted translation: ich werde den weg \n",
            "Actual translation: ich hole die leiter\n"
          ]
        },
        {
          "data": {
            "image/png": "[encoded data removed]",
            "text/plain": [
              "<Figure size 432x288 with 2 Axes>"
            ]
          },
          "metadata": {
            "needs_background": "light"
          },
          "output_type": "display_data"
        }
      ],
      "source": [
        "predict_random_val_sentence()"
      ]
    },
    {
      "cell_type": "code",
      "execution_count": null,
      "metadata": {
        "colab": {
          "base_uri": "https://localhost:8080/",
          "height": 319
        },
        "id": "crDo_fqpXY0E",
        "outputId": "0becd63d-7fd5-4ab0-fdef-90eb4dd7c292"
      },
      "outputs": [
        {
          "name": "stdout",
          "output_type": "stream",
          "text": [
            "Input: she is ethiopian \n",
            "Predicted translation: sie ist aethiopierin \n",
            "Actual translation: sie ist aethiopierin\n"
          ]
        },
        {
          "data": {
            "image/png": "[encoded data removed]",
            "text/plain": [
              "<Figure size 432x288 with 2 Axes>"
            ]
          },
          "metadata": {
            "needs_background": "light"
          },
          "output_type": "display_data"
        }
      ],
      "source": [
        "predict_random_val_sentence()"
      ]
    },
    {
      "cell_type": "code",
      "execution_count": null,
      "metadata": {
        "id": "kabvhKYCXaNM"
      },
      "outputs": [],
      "source": []
    }
  ],
  "metadata": {
    "accelerator": "GPU",
    "colab": {
      "machine_shape": "hm",
      "name": "attention_class_part_5.ipynb",
      "provenance": []
    },
    "gpuClass": "standard",
    "kernelspec": {
      "display_name": "Python 3.8.13 ('tf')",
      "language": "python",
      "name": "python3"
    },
    "language_info": {
      "codemirror_mode": {
        "name": "ipython",
        "version": 3
      },
      "file_extension": ".py",
      "mimetype": "text/x-python",
      "name": "python",
      "nbconvert_exporter": "python",
      "pygments_lexer": "ipython3",
      "version": "3.8.13"
    },
    "orig_nbformat": 4,
    "vscode": {
      "interpreter": {
        "hash": "a30d934768a106a0bdaa0b54b1b0ce58ac936216b32c4f047caaf50b54e34c32"
      }
    }
  },
  "nbformat": 4,
  "nbformat_minor": 0
}
